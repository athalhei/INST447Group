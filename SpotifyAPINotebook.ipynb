{
 "metadata": {
  "language_info": {
   "codemirror_mode": {
    "name": "ipython",
    "version": 3
   },
   "file_extension": ".py",
   "mimetype": "text/x-python",
   "name": "python",
   "nbconvert_exporter": "python",
   "pygments_lexer": "ipython3",
   "version": "3.8.5-final"
  },
  "orig_nbformat": 2,
  "kernelspec": {
   "name": "python385jvsc74a57bd02db524e06e9f5f4ffedc911c917cb75e12dbc923643829bf417064a77eb14d37",
   "display_name": "Python 3.8.5 64-bit"
  },
  "metadata": {
   "interpreter": {
    "hash": "2db524e06e9f5f4ffedc911c917cb75e12dbc923643829bf417064a77eb14d37"
   }
  }
 },
 "nbformat": 4,
 "nbformat_minor": 2,
 "cells": [
  {
   "cell_type": "code",
   "execution_count": null,
   "metadata": {},
   "outputs": [],
   "source": [
    "#spotifyAPI"
   ]
  },
  {
   "cell_type": "code",
   "execution_count": 3,
   "metadata": {},
   "outputs": [],
   "source": [
    "import json\n",
    "import spotipy\n",
    "import pandas as pd\n",
    "from spotipy.oauth2 import SpotifyClientCredentials"
   ]
  },
  {
   "cell_type": "code",
   "execution_count": 4,
   "metadata": {},
   "outputs": [],
   "source": [
    "client_id = '5cb8537300574d549c5983a2417f8392' #insert your client id\n",
    "client_secret = 'af60768b38894f4c97aa0bae655dc7d9' # insert your client secret id here\n",
    "\n",
    "client_credentials_manager = SpotifyClientCredentials(client_id, client_secret)\n",
    "sp = spotipy.Spotify(client_credentials_manager=client_credentials_manager)"
   ]
  },
  {
   "cell_type": "code",
   "execution_count": 6,
   "metadata": {},
   "outputs": [],
   "source": [
    "playlist_id='37i9dQZF1DWTsUzn4pp2rW' #insert your playlist id\n",
    "results = sp.playlist(playlist_id)"
   ]
  },
  {
   "cell_type": "code",
   "execution_count": 7,
   "metadata": {},
   "outputs": [],
   "source": [
    "# create a list of song ids\n",
    "ids=[]\n",
    "\n",
    "for item in results['tracks']['items']:\n",
    "        track = item['track']['id']\n",
    "        ids.append(track)\n",
    "        \n",
    "song_meta={'id':[],'album':[], 'name':[], \n",
    "           'artist':[],'explicit':[],'popularity':[]}\n",
    "\n",
    "for song_id in ids:\n",
    "    # get song's meta data\n",
    "    meta = sp.track(song_id)\n",
    "    \n",
    "    # song id\n",
    "    song_meta['id'].append(song_id)\n",
    "\n",
    "    # album name\n",
    "    album=meta['album']['name']\n",
    "    song_meta['album']+=[album]\n",
    "\n",
    "    # song name\n",
    "    song=meta['name']\n",
    "    song_meta['name']+=[song]\n",
    "    \n",
    "    # artists name\n",
    "    s = ', '\n",
    "    artist=s.join([singer_name['name'] for singer_name in meta['artists']])\n",
    "    song_meta['artist']+=[artist]\n",
    "    \n",
    "    # explicit: lyrics could be considered offensive or unsuitable for children\n",
    "    explicit=meta['explicit']\n",
    "    song_meta['explicit'].append(explicit)\n",
    "    \n",
    "    # song popularity\n",
    "    popularity=meta['popularity']\n",
    "    song_meta['popularity'].append(popularity)\n",
    "\n",
    "song_meta_df=pd.DataFrame.from_dict(song_meta)"
   ]
  },
  {
   "cell_type": "code",
   "execution_count": 8,
   "metadata": {},
   "outputs": [],
   "source": [
    "# check the song feature\n",
    "features = sp.audio_features(song_meta['id'])\n",
    "# change dictionary to dataframe\n",
    "features_df=pd.DataFrame.from_dict(features)"
   ]
  },
  {
   "cell_type": "code",
   "execution_count": 9,
   "metadata": {},
   "outputs": [],
   "source": [
    "# convert milliseconds to mins\n",
    "# duration_ms: The duration of the track in milliseconds.\n",
    "# 1 minute = 60 seconds = 60 × 1000 milliseconds = 60,000 ms\n",
    "features_df['duration_ms']=features_df['duration_ms']/60000\n",
    "\n",
    "# combine two dataframe\n",
    "final_df=song_meta_df.merge(features_df)"
   ]
  },
  {
   "cell_type": "code",
   "execution_count": 10,
   "metadata": {},
   "outputs": [
    {
     "output_type": "execute_result",
     "data": {
      "text/plain": [
       "                        id               album  \\\n",
       "0   7zHHQ5UI8P6BkZXvmjmlJM       Softly Loudly   \n",
       "1   0aX2oXBqlQ2GrkGbI3pzVD      Mother Of Mine   \n",
       "2   67qv5GoZCaVf5Z8613r5bY  Sunshine & Lullaby   \n",
       "3   2GjxDcfAZjYhrxjz2t4qat    Love You Anymore   \n",
       "4   5hGtLvLqN33BWKzNtEguUB    There is a place   \n",
       "..                     ...                 ...   \n",
       "95  5UP7fajBJqRsMPoe89tKlB          Not For Me   \n",
       "96  15lJRmiVd7aIJtozQJg5Ld             Outline   \n",
       "97  1KMgmgjUCjSHMWaEx6z9Om         All For One   \n",
       "98  3aqG3Xx1xOyKNVqWkppwoD  The Road Is Narrow   \n",
       "99  3VukmzGvVbB4FyGyBPf0A7     Spotify Singles   \n",
       "\n",
       "                                           name                artist  \\\n",
       "0                                      Saturday    Emma Nabarro-Steel   \n",
       "1                                Mother Of Mine  more than neighbours   \n",
       "2                            Sunshine & Lullaby     Matthew Hermosura   \n",
       "3                              Love You Anymore         Michael Bublé   \n",
       "4                              There is a place     Ellen Andrea Wang   \n",
       "..                                          ...                   ...   \n",
       "95                                   Not for Me               Celeste   \n",
       "96                                      Outline             Ria Moran   \n",
       "97                        Don't Go To Strangers          Jamison Ross   \n",
       "98                           the road is narrow                 Jecca   \n",
       "99  Blackbird - Recorded at Spotify Studios NYC        Gregory Porter   \n",
       "\n",
       "    explicit  popularity  danceability  energy  key  loudness  ...  \\\n",
       "0      False          41         0.528  0.2380    0    -9.740  ...   \n",
       "1      False          39         0.404  0.2420    0   -14.785  ...   \n",
       "2      False          42         0.760  0.3510    7   -11.793  ...   \n",
       "3      False           0         0.691  0.2710    6    -7.583  ...   \n",
       "4      False          42         0.291  0.0979    1   -13.001  ...   \n",
       "..       ...         ...           ...     ...  ...       ...  ...   \n",
       "95     False          44         0.585  0.5510    8    -9.014  ...   \n",
       "96     False          35         0.624  0.5470   10    -8.320  ...   \n",
       "97     False          35         0.467  0.1220    0   -15.780  ...   \n",
       "98     False          32         0.704  0.1440   11   -18.696  ...   \n",
       "99     False          43         0.619  0.4830    0   -10.984  ...   \n",
       "\n",
       "    instrumentalness  liveness  valence    tempo            type  \\\n",
       "0           0.000142    0.2180   0.1870  103.738  audio_features   \n",
       "1           0.000837    0.1000   0.1980   81.943  audio_features   \n",
       "2           0.000000    0.1260   0.4790  108.045  audio_features   \n",
       "3           0.000000    0.1090   0.5480   89.990  audio_features   \n",
       "4           0.000088    0.1070   0.0603   74.078  audio_features   \n",
       "..               ...       ...      ...      ...             ...   \n",
       "95          0.000488    0.0927   0.4340  152.120  audio_features   \n",
       "96          0.000138    0.1050   0.2010   86.519  audio_features   \n",
       "97          0.000013    0.1060   0.1350  114.832  audio_features   \n",
       "98          0.000997    0.0891   0.2350   85.017  audio_features   \n",
       "99          0.003190    0.1070   0.4190   94.010  audio_features   \n",
       "\n",
       "                                     uri  \\\n",
       "0   spotify:track:7zHHQ5UI8P6BkZXvmjmlJM   \n",
       "1   spotify:track:0aX2oXBqlQ2GrkGbI3pzVD   \n",
       "2   spotify:track:67qv5GoZCaVf5Z8613r5bY   \n",
       "3   spotify:track:2GjxDcfAZjYhrxjz2t4qat   \n",
       "4   spotify:track:5hGtLvLqN33BWKzNtEguUB   \n",
       "..                                   ...   \n",
       "95  spotify:track:5UP7fajBJqRsMPoe89tKlB   \n",
       "96  spotify:track:15lJRmiVd7aIJtozQJg5Ld   \n",
       "97  spotify:track:1KMgmgjUCjSHMWaEx6z9Om   \n",
       "98  spotify:track:3aqG3Xx1xOyKNVqWkppwoD   \n",
       "99  spotify:track:3VukmzGvVbB4FyGyBPf0A7   \n",
       "\n",
       "                                           track_href  \\\n",
       "0   https://api.spotify.com/v1/tracks/7zHHQ5UI8P6B...   \n",
       "1   https://api.spotify.com/v1/tracks/0aX2oXBqlQ2G...   \n",
       "2   https://api.spotify.com/v1/tracks/67qv5GoZCaVf...   \n",
       "3   https://api.spotify.com/v1/tracks/2GjxDcfAZjYh...   \n",
       "4   https://api.spotify.com/v1/tracks/5hGtLvLqN33B...   \n",
       "..                                                ...   \n",
       "95  https://api.spotify.com/v1/tracks/5UP7fajBJqRs...   \n",
       "96  https://api.spotify.com/v1/tracks/15lJRmiVd7aI...   \n",
       "97  https://api.spotify.com/v1/tracks/1KMgmgjUCjSH...   \n",
       "98  https://api.spotify.com/v1/tracks/3aqG3Xx1xOyK...   \n",
       "99  https://api.spotify.com/v1/tracks/3VukmzGvVbB4...   \n",
       "\n",
       "                                         analysis_url duration_ms  \\\n",
       "0   https://api.spotify.com/v1/audio-analysis/7zHH...    4.220767   \n",
       "1   https://api.spotify.com/v1/audio-analysis/0aX2...    4.037117   \n",
       "2   https://api.spotify.com/v1/audio-analysis/67qv...    4.133117   \n",
       "3   https://api.spotify.com/v1/audio-analysis/2Gjx...    3.043117   \n",
       "4   https://api.spotify.com/v1/audio-analysis/5hGt...    4.128700   \n",
       "..                                                ...         ...   \n",
       "95  https://api.spotify.com/v1/audio-analysis/5UP7...    4.052850   \n",
       "96  https://api.spotify.com/v1/audio-analysis/15lJ...    3.224800   \n",
       "97  https://api.spotify.com/v1/audio-analysis/1KMg...    5.344000   \n",
       "98  https://api.spotify.com/v1/audio-analysis/3aqG...    3.247067   \n",
       "99  https://api.spotify.com/v1/audio-analysis/3Vuk...    4.454650   \n",
       "\n",
       "   time_signature  \n",
       "0               3  \n",
       "1               4  \n",
       "2               4  \n",
       "3               4  \n",
       "4               4  \n",
       "..            ...  \n",
       "95              4  \n",
       "96              4  \n",
       "97              4  \n",
       "98              3  \n",
       "99              4  \n",
       "\n",
       "[100 rows x 23 columns]"
      ],
      "text/html": "<div>\n<style scoped>\n    .dataframe tbody tr th:only-of-type {\n        vertical-align: middle;\n    }\n\n    .dataframe tbody tr th {\n        vertical-align: top;\n    }\n\n    .dataframe thead th {\n        text-align: right;\n    }\n</style>\n<table border=\"1\" class=\"dataframe\">\n  <thead>\n    <tr style=\"text-align: right;\">\n      <th></th>\n      <th>id</th>\n      <th>album</th>\n      <th>name</th>\n      <th>artist</th>\n      <th>explicit</th>\n      <th>popularity</th>\n      <th>danceability</th>\n      <th>energy</th>\n      <th>key</th>\n      <th>loudness</th>\n      <th>...</th>\n      <th>instrumentalness</th>\n      <th>liveness</th>\n      <th>valence</th>\n      <th>tempo</th>\n      <th>type</th>\n      <th>uri</th>\n      <th>track_href</th>\n      <th>analysis_url</th>\n      <th>duration_ms</th>\n      <th>time_signature</th>\n    </tr>\n  </thead>\n  <tbody>\n    <tr>\n      <th>0</th>\n      <td>7zHHQ5UI8P6BkZXvmjmlJM</td>\n      <td>Softly Loudly</td>\n      <td>Saturday</td>\n      <td>Emma Nabarro-Steel</td>\n      <td>False</td>\n      <td>41</td>\n      <td>0.528</td>\n      <td>0.2380</td>\n      <td>0</td>\n      <td>-9.740</td>\n      <td>...</td>\n      <td>0.000142</td>\n      <td>0.2180</td>\n      <td>0.1870</td>\n      <td>103.738</td>\n      <td>audio_features</td>\n      <td>spotify:track:7zHHQ5UI8P6BkZXvmjmlJM</td>\n      <td>https://api.spotify.com/v1/tracks/7zHHQ5UI8P6B...</td>\n      <td>https://api.spotify.com/v1/audio-analysis/7zHH...</td>\n      <td>4.220767</td>\n      <td>3</td>\n    </tr>\n    <tr>\n      <th>1</th>\n      <td>0aX2oXBqlQ2GrkGbI3pzVD</td>\n      <td>Mother Of Mine</td>\n      <td>Mother Of Mine</td>\n      <td>more than neighbours</td>\n      <td>False</td>\n      <td>39</td>\n      <td>0.404</td>\n      <td>0.2420</td>\n      <td>0</td>\n      <td>-14.785</td>\n      <td>...</td>\n      <td>0.000837</td>\n      <td>0.1000</td>\n      <td>0.1980</td>\n      <td>81.943</td>\n      <td>audio_features</td>\n      <td>spotify:track:0aX2oXBqlQ2GrkGbI3pzVD</td>\n      <td>https://api.spotify.com/v1/tracks/0aX2oXBqlQ2G...</td>\n      <td>https://api.spotify.com/v1/audio-analysis/0aX2...</td>\n      <td>4.037117</td>\n      <td>4</td>\n    </tr>\n    <tr>\n      <th>2</th>\n      <td>67qv5GoZCaVf5Z8613r5bY</td>\n      <td>Sunshine &amp; Lullaby</td>\n      <td>Sunshine &amp; Lullaby</td>\n      <td>Matthew Hermosura</td>\n      <td>False</td>\n      <td>42</td>\n      <td>0.760</td>\n      <td>0.3510</td>\n      <td>7</td>\n      <td>-11.793</td>\n      <td>...</td>\n      <td>0.000000</td>\n      <td>0.1260</td>\n      <td>0.4790</td>\n      <td>108.045</td>\n      <td>audio_features</td>\n      <td>spotify:track:67qv5GoZCaVf5Z8613r5bY</td>\n      <td>https://api.spotify.com/v1/tracks/67qv5GoZCaVf...</td>\n      <td>https://api.spotify.com/v1/audio-analysis/67qv...</td>\n      <td>4.133117</td>\n      <td>4</td>\n    </tr>\n    <tr>\n      <th>3</th>\n      <td>2GjxDcfAZjYhrxjz2t4qat</td>\n      <td>Love You Anymore</td>\n      <td>Love You Anymore</td>\n      <td>Michael Bublé</td>\n      <td>False</td>\n      <td>0</td>\n      <td>0.691</td>\n      <td>0.2710</td>\n      <td>6</td>\n      <td>-7.583</td>\n      <td>...</td>\n      <td>0.000000</td>\n      <td>0.1090</td>\n      <td>0.5480</td>\n      <td>89.990</td>\n      <td>audio_features</td>\n      <td>spotify:track:2GjxDcfAZjYhrxjz2t4qat</td>\n      <td>https://api.spotify.com/v1/tracks/2GjxDcfAZjYh...</td>\n      <td>https://api.spotify.com/v1/audio-analysis/2Gjx...</td>\n      <td>3.043117</td>\n      <td>4</td>\n    </tr>\n    <tr>\n      <th>4</th>\n      <td>5hGtLvLqN33BWKzNtEguUB</td>\n      <td>There is a place</td>\n      <td>There is a place</td>\n      <td>Ellen Andrea Wang</td>\n      <td>False</td>\n      <td>42</td>\n      <td>0.291</td>\n      <td>0.0979</td>\n      <td>1</td>\n      <td>-13.001</td>\n      <td>...</td>\n      <td>0.000088</td>\n      <td>0.1070</td>\n      <td>0.0603</td>\n      <td>74.078</td>\n      <td>audio_features</td>\n      <td>spotify:track:5hGtLvLqN33BWKzNtEguUB</td>\n      <td>https://api.spotify.com/v1/tracks/5hGtLvLqN33B...</td>\n      <td>https://api.spotify.com/v1/audio-analysis/5hGt...</td>\n      <td>4.128700</td>\n      <td>4</td>\n    </tr>\n    <tr>\n      <th>...</th>\n      <td>...</td>\n      <td>...</td>\n      <td>...</td>\n      <td>...</td>\n      <td>...</td>\n      <td>...</td>\n      <td>...</td>\n      <td>...</td>\n      <td>...</td>\n      <td>...</td>\n      <td>...</td>\n      <td>...</td>\n      <td>...</td>\n      <td>...</td>\n      <td>...</td>\n      <td>...</td>\n      <td>...</td>\n      <td>...</td>\n      <td>...</td>\n      <td>...</td>\n      <td>...</td>\n    </tr>\n    <tr>\n      <th>95</th>\n      <td>5UP7fajBJqRsMPoe89tKlB</td>\n      <td>Not For Me</td>\n      <td>Not for Me</td>\n      <td>Celeste</td>\n      <td>False</td>\n      <td>44</td>\n      <td>0.585</td>\n      <td>0.5510</td>\n      <td>8</td>\n      <td>-9.014</td>\n      <td>...</td>\n      <td>0.000488</td>\n      <td>0.0927</td>\n      <td>0.4340</td>\n      <td>152.120</td>\n      <td>audio_features</td>\n      <td>spotify:track:5UP7fajBJqRsMPoe89tKlB</td>\n      <td>https://api.spotify.com/v1/tracks/5UP7fajBJqRs...</td>\n      <td>https://api.spotify.com/v1/audio-analysis/5UP7...</td>\n      <td>4.052850</td>\n      <td>4</td>\n    </tr>\n    <tr>\n      <th>96</th>\n      <td>15lJRmiVd7aIJtozQJg5Ld</td>\n      <td>Outline</td>\n      <td>Outline</td>\n      <td>Ria Moran</td>\n      <td>False</td>\n      <td>35</td>\n      <td>0.624</td>\n      <td>0.5470</td>\n      <td>10</td>\n      <td>-8.320</td>\n      <td>...</td>\n      <td>0.000138</td>\n      <td>0.1050</td>\n      <td>0.2010</td>\n      <td>86.519</td>\n      <td>audio_features</td>\n      <td>spotify:track:15lJRmiVd7aIJtozQJg5Ld</td>\n      <td>https://api.spotify.com/v1/tracks/15lJRmiVd7aI...</td>\n      <td>https://api.spotify.com/v1/audio-analysis/15lJ...</td>\n      <td>3.224800</td>\n      <td>4</td>\n    </tr>\n    <tr>\n      <th>97</th>\n      <td>1KMgmgjUCjSHMWaEx6z9Om</td>\n      <td>All For One</td>\n      <td>Don't Go To Strangers</td>\n      <td>Jamison Ross</td>\n      <td>False</td>\n      <td>35</td>\n      <td>0.467</td>\n      <td>0.1220</td>\n      <td>0</td>\n      <td>-15.780</td>\n      <td>...</td>\n      <td>0.000013</td>\n      <td>0.1060</td>\n      <td>0.1350</td>\n      <td>114.832</td>\n      <td>audio_features</td>\n      <td>spotify:track:1KMgmgjUCjSHMWaEx6z9Om</td>\n      <td>https://api.spotify.com/v1/tracks/1KMgmgjUCjSH...</td>\n      <td>https://api.spotify.com/v1/audio-analysis/1KMg...</td>\n      <td>5.344000</td>\n      <td>4</td>\n    </tr>\n    <tr>\n      <th>98</th>\n      <td>3aqG3Xx1xOyKNVqWkppwoD</td>\n      <td>The Road Is Narrow</td>\n      <td>the road is narrow</td>\n      <td>Jecca</td>\n      <td>False</td>\n      <td>32</td>\n      <td>0.704</td>\n      <td>0.1440</td>\n      <td>11</td>\n      <td>-18.696</td>\n      <td>...</td>\n      <td>0.000997</td>\n      <td>0.0891</td>\n      <td>0.2350</td>\n      <td>85.017</td>\n      <td>audio_features</td>\n      <td>spotify:track:3aqG3Xx1xOyKNVqWkppwoD</td>\n      <td>https://api.spotify.com/v1/tracks/3aqG3Xx1xOyK...</td>\n      <td>https://api.spotify.com/v1/audio-analysis/3aqG...</td>\n      <td>3.247067</td>\n      <td>3</td>\n    </tr>\n    <tr>\n      <th>99</th>\n      <td>3VukmzGvVbB4FyGyBPf0A7</td>\n      <td>Spotify Singles</td>\n      <td>Blackbird - Recorded at Spotify Studios NYC</td>\n      <td>Gregory Porter</td>\n      <td>False</td>\n      <td>43</td>\n      <td>0.619</td>\n      <td>0.4830</td>\n      <td>0</td>\n      <td>-10.984</td>\n      <td>...</td>\n      <td>0.003190</td>\n      <td>0.1070</td>\n      <td>0.4190</td>\n      <td>94.010</td>\n      <td>audio_features</td>\n      <td>spotify:track:3VukmzGvVbB4FyGyBPf0A7</td>\n      <td>https://api.spotify.com/v1/tracks/3VukmzGvVbB4...</td>\n      <td>https://api.spotify.com/v1/audio-analysis/3Vuk...</td>\n      <td>4.454650</td>\n      <td>4</td>\n    </tr>\n  </tbody>\n</table>\n<p>100 rows × 23 columns</p>\n</div>"
     },
     "metadata": {},
     "execution_count": 10
    }
   ],
   "source": [
    "final_df"
   ]
  },
  {
   "cell_type": "code",
   "execution_count": null,
   "metadata": {},
   "outputs": [],
   "source": []
  }
 ]
}