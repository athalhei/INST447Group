{
 "metadata": {
  "language_info": {
   "codemirror_mode": {
    "name": "ipython",
    "version": 3
   },
   "file_extension": ".py",
   "mimetype": "text/x-python",
   "name": "python",
   "nbconvert_exporter": "python",
   "pygments_lexer": "ipython3",
   "version": "3.8.5-final"
  },
  "orig_nbformat": 2,
  "kernelspec": {
   "name": "python385jvsc74a57bd02db524e06e9f5f4ffedc911c917cb75e12dbc923643829bf417064a77eb14d37",
   "display_name": "Python 3.8.5 64-bit"
  },
  "metadata": {
   "interpreter": {
    "hash": "2db524e06e9f5f4ffedc911c917cb75e12dbc923643829bf417064a77eb14d37"
   }
  }
 },
 "nbformat": 4,
 "nbformat_minor": 2,
 "cells": [
  {
   "cell_type": "code",
   "execution_count": null,
   "metadata": {},
   "outputs": [],
   "source": [
    "#spotifyAPI"
   ]
  },
  {
   "cell_type": "code",
   "execution_count": 2,
   "metadata": {},
   "outputs": [],
   "source": [
    "import json\n",
    "import spotipy\n",
    "import pandas as pd\n",
    "from spotipy.oauth2 import SpotifyClientCredentials"
   ]
  },
  {
   "cell_type": "code",
   "execution_count": null,
   "metadata": {},
   "outputs": [],
   "source": [
    "client_id = '' #insert your client id\n",
    "client_secret = '' # insert your client secret id here\n",
    "\n",
    "client_credentials_manager = SpotifyClientCredentials(client_id, client_secret)\n",
    "sp = spotipy.Spotify(client_credentials_manager=client_credentials_manager)"
   ]
  },
  {
   "cell_type": "code",
   "execution_count": null,
   "metadata": {},
   "outputs": [],
   "source": [
    "playlist_id='' #insert your playlist id\n",
    "results = sp.playlist(playlist_id)"
   ]
  },
  {
   "cell_type": "code",
   "execution_count": null,
   "metadata": {},
   "outputs": [],
   "source": [
    "# create a list of song ids\n",
    "ids=[]\n",
    "\n",
    "for item in results['tracks']['items']:\n",
    "        track = item['track']['id']\n",
    "        ids.append(track)\n",
    "        \n",
    "song_meta={'id':[],'album':[], 'name':[], \n",
    "           'artist':[],'explicit':[],'popularity':[]}\n",
    "\n",
    "for song_id in ids:\n",
    "    # get song's meta data\n",
    "    meta = sp.track(song_id)\n",
    "    \n",
    "    # song id\n",
    "    song_meta['id'].append(song_id)\n",
    "\n",
    "    # album name\n",
    "    album=meta['album']['name']\n",
    "    song_meta['album']+=[album]\n",
    "\n",
    "    # song name\n",
    "    song=meta['name']\n",
    "    song_meta['name']+=[song]\n",
    "    \n",
    "    # artists name\n",
    "    s = ', '\n",
    "    artist=s.join([singer_name['name'] for singer_name in meta['artists']])\n",
    "    song_meta['artist']+=[artist]\n",
    "    \n",
    "    # explicit: lyrics could be considered offensive or unsuitable for children\n",
    "    explicit=meta['explicit']\n",
    "    song_meta['explicit'].append(explicit)\n",
    "    \n",
    "    # song popularity\n",
    "    popularity=meta['popularity']\n",
    "    song_meta['popularity'].append(popularity)\n",
    "\n",
    "song_meta_df=pd.DataFrame.from_dict(song_meta)"
   ]
  },
  {
   "cell_type": "code",
   "execution_count": null,
   "metadata": {},
   "outputs": [],
   "source": [
    "# check the song feature\n",
    "features = sp.audio_features(song_meta['id'])\n",
    "# change dictionary to dataframe\n",
    "features_df=pd.DataFrame.from_dict(features)"
   ]
  },
  {
   "cell_type": "code",
   "execution_count": null,
   "metadata": {},
   "outputs": [],
   "source": [
    "# convert milliseconds to mins\n",
    "# duration_ms: The duration of the track in milliseconds.\n",
    "# 1 minute = 60 seconds = 60 × 1000 milliseconds = 60,000 ms\n",
    "features_df['duration_ms']=features_df['duration_ms']/60000\n",
    "\n",
    "# combine two dataframe\n",
    "final_df=song_meta_df.merge(features_df)"
   ]
  }
 ]
}