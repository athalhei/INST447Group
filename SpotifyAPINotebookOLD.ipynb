{
 "metadata": {
  "language_info": {
   "codemirror_mode": {
    "name": "ipython",
    "version": 3
   },
   "file_extension": ".py",
   "mimetype": "text/x-python",
   "name": "python",
   "nbconvert_exporter": "python",
   "pygments_lexer": "ipython3",
   "version": "3.8.5-final"
  },
  "orig_nbformat": 2,
  "kernelspec": {
   "name": "python385jvsc74a57bd02db524e06e9f5f4ffedc911c917cb75e12dbc923643829bf417064a77eb14d37",
   "display_name": "Python 3.8.5 64-bit"
  },
  "metadata": {
   "interpreter": {
    "hash": "2db524e06e9f5f4ffedc911c917cb75e12dbc923643829bf417064a77eb14d37"
   }
  }
 },
 "nbformat": 4,
 "nbformat_minor": 2,
 "cells": [
  {
   "cell_type": "code",
   "execution_count": null,
   "metadata": {},
   "outputs": [],
   "source": [
    "#spotifyAPI"
   ]
  },
  {
   "cell_type": "code",
   "execution_count": 26,
   "metadata": {},
   "outputs": [],
   "source": [
    "import json\n",
    "import spotipy\n",
    "import pandas as pd\n",
    "from spotipy.oauth2 import SpotifyClientCredentials\n",
    "from sklearn.preprocessing import MinMaxScaler"
   ]
  },
  {
   "cell_type": "code",
   "execution_count": 19,
   "metadata": {},
   "outputs": [],
   "source": [
    "client_id = '5cb8537300574d549c5983a2417f8392' #insert your client id\n",
    "client_secret = 'af60768b38894f4c97aa0bae655dc7d9' # insert your client secret id here\n",
    "\n",
    "client_credentials_manager = SpotifyClientCredentials(client_id, client_secret)\n",
    "sp = spotipy.Spotify(client_credentials_manager=client_credentials_manager)"
   ]
  },
  {
   "cell_type": "code",
   "execution_count": 20,
   "metadata": {},
   "outputs": [],
   "source": [
    "playlist_id='49muI8fxakclsOqyShRkoV' #insert your playlist id\n",
    "results = sp.playlist(playlist_id)"
   ]
  },
  {
   "cell_type": "code",
   "execution_count": 21,
   "metadata": {},
   "outputs": [],
   "source": [
    "# create a list of song ids\n",
    "ids=[]\n",
    "\n",
    "for item in results['tracks']['items']:\n",
    "        track = item['track']['id']\n",
    "        ids.append(track)\n",
    "        \n",
    "song_meta={'id':[],'album':[], 'name':[], \n",
    "           'artist':[],'explicit':[],'popularity':[]}\n",
    "\n",
    "for song_id in ids:\n",
    "    # get song's meta data\n",
    "    meta = sp.track(song_id)\n",
    "    \n",
    "    # song id\n",
    "    song_meta['id'].append(song_id)\n",
    "\n",
    "    # album name\n",
    "    album=meta['album']['name']\n",
    "    song_meta['album']+=[album]\n",
    "\n",
    "    # song name\n",
    "    song=meta['name']\n",
    "    song_meta['name']+=[song]\n",
    "    \n",
    "    # artists name\n",
    "    s = ', '\n",
    "    artist=s.join([singer_name['name'] for singer_name in meta['artists']])\n",
    "    song_meta['artist']+=[artist]\n",
    "    \n",
    "    # explicit: lyrics could be considered offensive or unsuitable for children\n",
    "    explicit=meta['explicit']\n",
    "    song_meta['explicit'].append(explicit)\n",
    "    \n",
    "    # song popularity\n",
    "    popularity=meta['popularity']\n",
    "    song_meta['popularity'].append(popularity)\n",
    "\n",
    "song_meta_df=pd.DataFrame.from_dict(song_meta)"
   ]
  },
  {
   "cell_type": "code",
   "execution_count": 22,
   "metadata": {},
   "outputs": [],
   "source": [
    "# check the song feature\n",
    "features = sp.audio_features(song_meta['id'])\n",
    "# change dictionary to dataframe\n",
    "features_df=pd.DataFrame.from_dict(features)"
   ]
  },
  {
   "cell_type": "code",
   "execution_count": 23,
   "metadata": {},
   "outputs": [],
   "source": [
    "# convert milliseconds to mins\n",
    "# duration_ms: The duration of the track in milliseconds.\n",
    "# 1 minute = 60 seconds = 60 × 1000 milliseconds = 60,000 ms\n",
    "features_df['duration_ms']=features_df['duration_ms']/60000\n",
    "\n",
    "# combine two dataframe\n",
    "final_df=song_meta_df.merge(features_df)"
   ]
  },
  {
   "cell_type": "code",
   "execution_count": 24,
   "metadata": {},
   "outputs": [
    {
     "output_type": "execute_result",
     "data": {
      "text/plain": [
       "                        id                                          album  \\\n",
       "0   7hQJA50XrCWABAu5v6QZ4i               Jazz (Deluxe Remastered Version)   \n",
       "1   7AgMX97ljLm9BzszyyXEYZ                             The Low End Theory   \n",
       "2   2rk0lCpO1vkKAQ6BC8bjUX                                  The Water (S)   \n",
       "3   7uR7WsWw2HTKDnz4Qw6wTH                       Jazz with Coffee and Tea   \n",
       "4   20XdEFyaUR9C7aDIdq2OAd                                       Homebase   \n",
       "..                     ...                                            ...   \n",
       "95  2M71v0J3aiCoS63OxJy2wJ  Soothing Sounds to Soothe Your Dogs and Relax   \n",
       "96  2F6IjUTH7SZGu7d3zCPU0a  Soothing Sounds to Soothe Your Dogs and Relax   \n",
       "97  4p0Wktg4RUkqx3hvbQR3B1  Soothing Sounds to Soothe Your Dogs and Relax   \n",
       "98  4ekVhjXhpIMMi5YVVDc1p4  Soothing Sounds to Soothe Your Dogs and Relax   \n",
       "99  0Q2uYd8bfuzqXe8Cyd6pSC  Soothing Sounds to Soothe Your Dogs and Relax   \n",
       "\n",
       "                                   name  \\\n",
       "0   Don't Stop Me Now - Remastered 2011   \n",
       "1                      Jazz (We've Got)   \n",
       "2                                  Jazz   \n",
       "3              Jazz with Coffee and Tea   \n",
       "4                            Summertime   \n",
       "..                                  ...   \n",
       "95                 Slumberland Snoozing   \n",
       "96                  Transcending Dreams   \n",
       "97                  Low Frequency Waves   \n",
       "98   Relaxing Music and Gentle Ambience   \n",
       "99  Music for Meditation and Relaxation   \n",
       "\n",
       "                                               artist  explicit  popularity  \\\n",
       "0                                               Queen     False          74   \n",
       "1                                A Tribe Called Quest     False          59   \n",
       "2                                        Mick Jenkins      True          61   \n",
       "3                             Instrumental Music Cafe     False          52   \n",
       "4                    DJ Jazzy Jeff & The Fresh Prince     False          63   \n",
       "..                                                ...       ...         ...   \n",
       "95  Sleepy Dogs, Jazz Music for Dogs, Official Pet...     False           3   \n",
       "96  Sleepy Dogs, Jazz Music for Dogs, Official Pet...     False           3   \n",
       "97  Sleepy Dogs, Jazz Music for Dogs, Official Pet...     False           3   \n",
       "98  Sleepy Dogs, Jazz Music for Dogs, Official Pet...     False           3   \n",
       "99  Sleepy Dogs, Jazz Music for Dogs, Official Pet...     False           3   \n",
       "\n",
       "    danceability   energy  key  loudness  ...  instrumentalness  liveness  \\\n",
       "0          0.563  0.86500    5    -5.277  ...          0.000191    0.7700   \n",
       "1          0.822  0.47900   11   -15.962  ...          0.000044    0.1240   \n",
       "2          0.636  0.61000    8    -9.665  ...          0.000121    0.1130   \n",
       "3          0.761  0.15500    8   -21.639  ...          0.522000    0.0820   \n",
       "4          0.677  0.54000    7   -14.439  ...          0.000002    0.8450   \n",
       "..           ...      ...  ...       ...  ...               ...       ...   \n",
       "95         0.259  0.00132    5   -40.663  ...          0.842000    0.0867   \n",
       "96         0.169  0.03080    8   -27.774  ...          0.983000    0.1280   \n",
       "97         0.180  0.06700    0   -23.539  ...          0.884000    0.1080   \n",
       "98         0.176  0.00387    3   -37.216  ...          0.879000    0.0891   \n",
       "99         0.103  0.08780    9   -26.412  ...          0.914000    0.1020   \n",
       "\n",
       "    valence    tempo            type                                   uri  \\\n",
       "0    0.6010  156.271  audio_features  spotify:track:7hQJA50XrCWABAu5v6QZ4i   \n",
       "1    0.7200   92.461  audio_features  spotify:track:7AgMX97ljLm9BzszyyXEYZ   \n",
       "2    0.2960  125.227  audio_features  spotify:track:2rk0lCpO1vkKAQ6BC8bjUX   \n",
       "3    0.7070  114.126  audio_features  spotify:track:7uR7WsWw2HTKDnz4Qw6wTH   \n",
       "4    0.4690   95.116  audio_features  spotify:track:20XdEFyaUR9C7aDIdq2OAd   \n",
       "..      ...      ...             ...                                   ...   \n",
       "95   0.1250   75.186  audio_features  spotify:track:2M71v0J3aiCoS63OxJy2wJ   \n",
       "96   0.1400  127.042  audio_features  spotify:track:2F6IjUTH7SZGu7d3zCPU0a   \n",
       "97   0.0370   60.085  audio_features  spotify:track:4p0Wktg4RUkqx3hvbQR3B1   \n",
       "98   0.0343   73.562  audio_features  spotify:track:4ekVhjXhpIMMi5YVVDc1p4   \n",
       "99   0.0364   51.213  audio_features  spotify:track:0Q2uYd8bfuzqXe8Cyd6pSC   \n",
       "\n",
       "                                           track_href  \\\n",
       "0   https://api.spotify.com/v1/tracks/7hQJA50XrCWA...   \n",
       "1   https://api.spotify.com/v1/tracks/7AgMX97ljLm9...   \n",
       "2   https://api.spotify.com/v1/tracks/2rk0lCpO1vkK...   \n",
       "3   https://api.spotify.com/v1/tracks/7uR7WsWw2HTK...   \n",
       "4   https://api.spotify.com/v1/tracks/20XdEFyaUR9C...   \n",
       "..                                                ...   \n",
       "95  https://api.spotify.com/v1/tracks/2M71v0J3aiCo...   \n",
       "96  https://api.spotify.com/v1/tracks/2F6IjUTH7SZG...   \n",
       "97  https://api.spotify.com/v1/tracks/4p0Wktg4RUkq...   \n",
       "98  https://api.spotify.com/v1/tracks/4ekVhjXhpIMM...   \n",
       "99  https://api.spotify.com/v1/tracks/0Q2uYd8bfuzq...   \n",
       "\n",
       "                                         analysis_url duration_ms  \\\n",
       "0   https://api.spotify.com/v1/audio-analysis/7hQJ...    3.490217   \n",
       "1   https://api.spotify.com/v1/audio-analysis/7AgM...    4.170667   \n",
       "2   https://api.spotify.com/v1/audio-analysis/2rk0...    4.336000   \n",
       "3   https://api.spotify.com/v1/audio-analysis/7uR7...    2.559833   \n",
       "4   https://api.spotify.com/v1/audio-analysis/20Xd...    4.516217   \n",
       "..                                                ...         ...   \n",
       "95  https://api.spotify.com/v1/audio-analysis/2M71...    1.784917   \n",
       "96  https://api.spotify.com/v1/audio-analysis/2F6I...    1.572000   \n",
       "97  https://api.spotify.com/v1/audio-analysis/4p0W...    1.994617   \n",
       "98  https://api.spotify.com/v1/audio-analysis/4ekV...    2.020217   \n",
       "99  https://api.spotify.com/v1/audio-analysis/0Q2u...    1.720333   \n",
       "\n",
       "   time_signature  \n",
       "0               4  \n",
       "1               4  \n",
       "2               3  \n",
       "3               4  \n",
       "4               4  \n",
       "..            ...  \n",
       "95              1  \n",
       "96              5  \n",
       "97              4  \n",
       "98              4  \n",
       "99              4  \n",
       "\n",
       "[100 rows x 23 columns]"
      ],
      "text/html": "<div>\n<style scoped>\n    .dataframe tbody tr th:only-of-type {\n        vertical-align: middle;\n    }\n\n    .dataframe tbody tr th {\n        vertical-align: top;\n    }\n\n    .dataframe thead th {\n        text-align: right;\n    }\n</style>\n<table border=\"1\" class=\"dataframe\">\n  <thead>\n    <tr style=\"text-align: right;\">\n      <th></th>\n      <th>id</th>\n      <th>album</th>\n      <th>name</th>\n      <th>artist</th>\n      <th>explicit</th>\n      <th>popularity</th>\n      <th>danceability</th>\n      <th>energy</th>\n      <th>key</th>\n      <th>loudness</th>\n      <th>...</th>\n      <th>instrumentalness</th>\n      <th>liveness</th>\n      <th>valence</th>\n      <th>tempo</th>\n      <th>type</th>\n      <th>uri</th>\n      <th>track_href</th>\n      <th>analysis_url</th>\n      <th>duration_ms</th>\n      <th>time_signature</th>\n    </tr>\n  </thead>\n  <tbody>\n    <tr>\n      <th>0</th>\n      <td>7hQJA50XrCWABAu5v6QZ4i</td>\n      <td>Jazz (Deluxe Remastered Version)</td>\n      <td>Don't Stop Me Now - Remastered 2011</td>\n      <td>Queen</td>\n      <td>False</td>\n      <td>74</td>\n      <td>0.563</td>\n      <td>0.86500</td>\n      <td>5</td>\n      <td>-5.277</td>\n      <td>...</td>\n      <td>0.000191</td>\n      <td>0.7700</td>\n      <td>0.6010</td>\n      <td>156.271</td>\n      <td>audio_features</td>\n      <td>spotify:track:7hQJA50XrCWABAu5v6QZ4i</td>\n      <td>https://api.spotify.com/v1/tracks/7hQJA50XrCWA...</td>\n      <td>https://api.spotify.com/v1/audio-analysis/7hQJ...</td>\n      <td>3.490217</td>\n      <td>4</td>\n    </tr>\n    <tr>\n      <th>1</th>\n      <td>7AgMX97ljLm9BzszyyXEYZ</td>\n      <td>The Low End Theory</td>\n      <td>Jazz (We've Got)</td>\n      <td>A Tribe Called Quest</td>\n      <td>False</td>\n      <td>59</td>\n      <td>0.822</td>\n      <td>0.47900</td>\n      <td>11</td>\n      <td>-15.962</td>\n      <td>...</td>\n      <td>0.000044</td>\n      <td>0.1240</td>\n      <td>0.7200</td>\n      <td>92.461</td>\n      <td>audio_features</td>\n      <td>spotify:track:7AgMX97ljLm9BzszyyXEYZ</td>\n      <td>https://api.spotify.com/v1/tracks/7AgMX97ljLm9...</td>\n      <td>https://api.spotify.com/v1/audio-analysis/7AgM...</td>\n      <td>4.170667</td>\n      <td>4</td>\n    </tr>\n    <tr>\n      <th>2</th>\n      <td>2rk0lCpO1vkKAQ6BC8bjUX</td>\n      <td>The Water (S)</td>\n      <td>Jazz</td>\n      <td>Mick Jenkins</td>\n      <td>True</td>\n      <td>61</td>\n      <td>0.636</td>\n      <td>0.61000</td>\n      <td>8</td>\n      <td>-9.665</td>\n      <td>...</td>\n      <td>0.000121</td>\n      <td>0.1130</td>\n      <td>0.2960</td>\n      <td>125.227</td>\n      <td>audio_features</td>\n      <td>spotify:track:2rk0lCpO1vkKAQ6BC8bjUX</td>\n      <td>https://api.spotify.com/v1/tracks/2rk0lCpO1vkK...</td>\n      <td>https://api.spotify.com/v1/audio-analysis/2rk0...</td>\n      <td>4.336000</td>\n      <td>3</td>\n    </tr>\n    <tr>\n      <th>3</th>\n      <td>7uR7WsWw2HTKDnz4Qw6wTH</td>\n      <td>Jazz with Coffee and Tea</td>\n      <td>Jazz with Coffee and Tea</td>\n      <td>Instrumental Music Cafe</td>\n      <td>False</td>\n      <td>52</td>\n      <td>0.761</td>\n      <td>0.15500</td>\n      <td>8</td>\n      <td>-21.639</td>\n      <td>...</td>\n      <td>0.522000</td>\n      <td>0.0820</td>\n      <td>0.7070</td>\n      <td>114.126</td>\n      <td>audio_features</td>\n      <td>spotify:track:7uR7WsWw2HTKDnz4Qw6wTH</td>\n      <td>https://api.spotify.com/v1/tracks/7uR7WsWw2HTK...</td>\n      <td>https://api.spotify.com/v1/audio-analysis/7uR7...</td>\n      <td>2.559833</td>\n      <td>4</td>\n    </tr>\n    <tr>\n      <th>4</th>\n      <td>20XdEFyaUR9C7aDIdq2OAd</td>\n      <td>Homebase</td>\n      <td>Summertime</td>\n      <td>DJ Jazzy Jeff &amp; The Fresh Prince</td>\n      <td>False</td>\n      <td>63</td>\n      <td>0.677</td>\n      <td>0.54000</td>\n      <td>7</td>\n      <td>-14.439</td>\n      <td>...</td>\n      <td>0.000002</td>\n      <td>0.8450</td>\n      <td>0.4690</td>\n      <td>95.116</td>\n      <td>audio_features</td>\n      <td>spotify:track:20XdEFyaUR9C7aDIdq2OAd</td>\n      <td>https://api.spotify.com/v1/tracks/20XdEFyaUR9C...</td>\n      <td>https://api.spotify.com/v1/audio-analysis/20Xd...</td>\n      <td>4.516217</td>\n      <td>4</td>\n    </tr>\n    <tr>\n      <th>...</th>\n      <td>...</td>\n      <td>...</td>\n      <td>...</td>\n      <td>...</td>\n      <td>...</td>\n      <td>...</td>\n      <td>...</td>\n      <td>...</td>\n      <td>...</td>\n      <td>...</td>\n      <td>...</td>\n      <td>...</td>\n      <td>...</td>\n      <td>...</td>\n      <td>...</td>\n      <td>...</td>\n      <td>...</td>\n      <td>...</td>\n      <td>...</td>\n      <td>...</td>\n      <td>...</td>\n    </tr>\n    <tr>\n      <th>95</th>\n      <td>2M71v0J3aiCoS63OxJy2wJ</td>\n      <td>Soothing Sounds to Soothe Your Dogs and Relax</td>\n      <td>Slumberland Snoozing</td>\n      <td>Sleepy Dogs, Jazz Music for Dogs, Official Pet...</td>\n      <td>False</td>\n      <td>3</td>\n      <td>0.259</td>\n      <td>0.00132</td>\n      <td>5</td>\n      <td>-40.663</td>\n      <td>...</td>\n      <td>0.842000</td>\n      <td>0.0867</td>\n      <td>0.1250</td>\n      <td>75.186</td>\n      <td>audio_features</td>\n      <td>spotify:track:2M71v0J3aiCoS63OxJy2wJ</td>\n      <td>https://api.spotify.com/v1/tracks/2M71v0J3aiCo...</td>\n      <td>https://api.spotify.com/v1/audio-analysis/2M71...</td>\n      <td>1.784917</td>\n      <td>1</td>\n    </tr>\n    <tr>\n      <th>96</th>\n      <td>2F6IjUTH7SZGu7d3zCPU0a</td>\n      <td>Soothing Sounds to Soothe Your Dogs and Relax</td>\n      <td>Transcending Dreams</td>\n      <td>Sleepy Dogs, Jazz Music for Dogs, Official Pet...</td>\n      <td>False</td>\n      <td>3</td>\n      <td>0.169</td>\n      <td>0.03080</td>\n      <td>8</td>\n      <td>-27.774</td>\n      <td>...</td>\n      <td>0.983000</td>\n      <td>0.1280</td>\n      <td>0.1400</td>\n      <td>127.042</td>\n      <td>audio_features</td>\n      <td>spotify:track:2F6IjUTH7SZGu7d3zCPU0a</td>\n      <td>https://api.spotify.com/v1/tracks/2F6IjUTH7SZG...</td>\n      <td>https://api.spotify.com/v1/audio-analysis/2F6I...</td>\n      <td>1.572000</td>\n      <td>5</td>\n    </tr>\n    <tr>\n      <th>97</th>\n      <td>4p0Wktg4RUkqx3hvbQR3B1</td>\n      <td>Soothing Sounds to Soothe Your Dogs and Relax</td>\n      <td>Low Frequency Waves</td>\n      <td>Sleepy Dogs, Jazz Music for Dogs, Official Pet...</td>\n      <td>False</td>\n      <td>3</td>\n      <td>0.180</td>\n      <td>0.06700</td>\n      <td>0</td>\n      <td>-23.539</td>\n      <td>...</td>\n      <td>0.884000</td>\n      <td>0.1080</td>\n      <td>0.0370</td>\n      <td>60.085</td>\n      <td>audio_features</td>\n      <td>spotify:track:4p0Wktg4RUkqx3hvbQR3B1</td>\n      <td>https://api.spotify.com/v1/tracks/4p0Wktg4RUkq...</td>\n      <td>https://api.spotify.com/v1/audio-analysis/4p0W...</td>\n      <td>1.994617</td>\n      <td>4</td>\n    </tr>\n    <tr>\n      <th>98</th>\n      <td>4ekVhjXhpIMMi5YVVDc1p4</td>\n      <td>Soothing Sounds to Soothe Your Dogs and Relax</td>\n      <td>Relaxing Music and Gentle Ambience</td>\n      <td>Sleepy Dogs, Jazz Music for Dogs, Official Pet...</td>\n      <td>False</td>\n      <td>3</td>\n      <td>0.176</td>\n      <td>0.00387</td>\n      <td>3</td>\n      <td>-37.216</td>\n      <td>...</td>\n      <td>0.879000</td>\n      <td>0.0891</td>\n      <td>0.0343</td>\n      <td>73.562</td>\n      <td>audio_features</td>\n      <td>spotify:track:4ekVhjXhpIMMi5YVVDc1p4</td>\n      <td>https://api.spotify.com/v1/tracks/4ekVhjXhpIMM...</td>\n      <td>https://api.spotify.com/v1/audio-analysis/4ekV...</td>\n      <td>2.020217</td>\n      <td>4</td>\n    </tr>\n    <tr>\n      <th>99</th>\n      <td>0Q2uYd8bfuzqXe8Cyd6pSC</td>\n      <td>Soothing Sounds to Soothe Your Dogs and Relax</td>\n      <td>Music for Meditation and Relaxation</td>\n      <td>Sleepy Dogs, Jazz Music for Dogs, Official Pet...</td>\n      <td>False</td>\n      <td>3</td>\n      <td>0.103</td>\n      <td>0.08780</td>\n      <td>9</td>\n      <td>-26.412</td>\n      <td>...</td>\n      <td>0.914000</td>\n      <td>0.1020</td>\n      <td>0.0364</td>\n      <td>51.213</td>\n      <td>audio_features</td>\n      <td>spotify:track:0Q2uYd8bfuzqXe8Cyd6pSC</td>\n      <td>https://api.spotify.com/v1/tracks/0Q2uYd8bfuzq...</td>\n      <td>https://api.spotify.com/v1/audio-analysis/0Q2u...</td>\n      <td>1.720333</td>\n      <td>4</td>\n    </tr>\n  </tbody>\n</table>\n<p>100 rows × 23 columns</p>\n</div>"
     },
     "metadata": {},
     "execution_count": 24
    }
   ],
   "source": [
    "final_df"
   ]
  },
  {
   "cell_type": "code",
   "execution_count": 31,
   "metadata": {},
   "outputs": [],
   "source": [
    "music_feature=features_df[['danceability', 'energy', 'loudness', 'speechiness', 'acousticness', 'instrumentalness', 'liveness', 'valence', 'tempo', 'duration_ms']]"
   ]
  },
  {
   "cell_type": "code",
   "execution_count": 32,
   "metadata": {},
   "outputs": [
    {
     "output_type": "execute_result",
     "data": {
      "text/plain": [
       "       danceability      energy   loudness  speechiness  acousticness  \\\n",
       "count    100.000000  100.000000  100.00000   100.000000    100.000000   \n",
       "mean       0.401046    0.229431  -20.72718     0.081785      0.732171   \n",
       "std        0.259965    0.251687    9.45611     0.091963      0.333899   \n",
       "min        0.076700    0.000849  -40.97400     0.031800      0.002780   \n",
       "25%        0.179750    0.038400  -26.87875     0.041875      0.605750   \n",
       "50%        0.282500    0.101200  -22.36300     0.047800      0.915000   \n",
       "75%        0.669500    0.410500  -12.53225     0.075400      0.979000   \n",
       "max        0.902000    0.895000   -5.27700     0.650000      0.996000   \n",
       "\n",
       "       instrumentalness    liveness     valence       tempo  duration_ms  \n",
       "count        100.000000  100.000000  100.000000  100.000000   100.000000  \n",
       "mean           0.631291    0.164759    0.262755   96.804070     2.295431  \n",
       "std            0.381747    0.144557    0.259891   31.974121     0.891903  \n",
       "min            0.000000    0.040800    0.029700   51.213000     1.066667  \n",
       "25%            0.277250    0.096700    0.039675   75.134500     1.639108  \n",
       "50%            0.849000    0.110500    0.137000   85.979000     1.923900  \n",
       "75%            0.932500    0.147750    0.405500  114.173000     2.816542  \n",
       "max            0.994000    0.845000    0.907000  205.348000     4.955333  "
      ],
      "text/html": "<div>\n<style scoped>\n    .dataframe tbody tr th:only-of-type {\n        vertical-align: middle;\n    }\n\n    .dataframe tbody tr th {\n        vertical-align: top;\n    }\n\n    .dataframe thead th {\n        text-align: right;\n    }\n</style>\n<table border=\"1\" class=\"dataframe\">\n  <thead>\n    <tr style=\"text-align: right;\">\n      <th></th>\n      <th>danceability</th>\n      <th>energy</th>\n      <th>loudness</th>\n      <th>speechiness</th>\n      <th>acousticness</th>\n      <th>instrumentalness</th>\n      <th>liveness</th>\n      <th>valence</th>\n      <th>tempo</th>\n      <th>duration_ms</th>\n    </tr>\n  </thead>\n  <tbody>\n    <tr>\n      <th>count</th>\n      <td>100.000000</td>\n      <td>100.000000</td>\n      <td>100.00000</td>\n      <td>100.000000</td>\n      <td>100.000000</td>\n      <td>100.000000</td>\n      <td>100.000000</td>\n      <td>100.000000</td>\n      <td>100.000000</td>\n      <td>100.000000</td>\n    </tr>\n    <tr>\n      <th>mean</th>\n      <td>0.401046</td>\n      <td>0.229431</td>\n      <td>-20.72718</td>\n      <td>0.081785</td>\n      <td>0.732171</td>\n      <td>0.631291</td>\n      <td>0.164759</td>\n      <td>0.262755</td>\n      <td>96.804070</td>\n      <td>2.295431</td>\n    </tr>\n    <tr>\n      <th>std</th>\n      <td>0.259965</td>\n      <td>0.251687</td>\n      <td>9.45611</td>\n      <td>0.091963</td>\n      <td>0.333899</td>\n      <td>0.381747</td>\n      <td>0.144557</td>\n      <td>0.259891</td>\n      <td>31.974121</td>\n      <td>0.891903</td>\n    </tr>\n    <tr>\n      <th>min</th>\n      <td>0.076700</td>\n      <td>0.000849</td>\n      <td>-40.97400</td>\n      <td>0.031800</td>\n      <td>0.002780</td>\n      <td>0.000000</td>\n      <td>0.040800</td>\n      <td>0.029700</td>\n      <td>51.213000</td>\n      <td>1.066667</td>\n    </tr>\n    <tr>\n      <th>25%</th>\n      <td>0.179750</td>\n      <td>0.038400</td>\n      <td>-26.87875</td>\n      <td>0.041875</td>\n      <td>0.605750</td>\n      <td>0.277250</td>\n      <td>0.096700</td>\n      <td>0.039675</td>\n      <td>75.134500</td>\n      <td>1.639108</td>\n    </tr>\n    <tr>\n      <th>50%</th>\n      <td>0.282500</td>\n      <td>0.101200</td>\n      <td>-22.36300</td>\n      <td>0.047800</td>\n      <td>0.915000</td>\n      <td>0.849000</td>\n      <td>0.110500</td>\n      <td>0.137000</td>\n      <td>85.979000</td>\n      <td>1.923900</td>\n    </tr>\n    <tr>\n      <th>75%</th>\n      <td>0.669500</td>\n      <td>0.410500</td>\n      <td>-12.53225</td>\n      <td>0.075400</td>\n      <td>0.979000</td>\n      <td>0.932500</td>\n      <td>0.147750</td>\n      <td>0.405500</td>\n      <td>114.173000</td>\n      <td>2.816542</td>\n    </tr>\n    <tr>\n      <th>max</th>\n      <td>0.902000</td>\n      <td>0.895000</td>\n      <td>-5.27700</td>\n      <td>0.650000</td>\n      <td>0.996000</td>\n      <td>0.994000</td>\n      <td>0.845000</td>\n      <td>0.907000</td>\n      <td>205.348000</td>\n      <td>4.955333</td>\n    </tr>\n  </tbody>\n</table>\n</div>"
     },
     "metadata": {},
     "execution_count": 32
    }
   ],
   "source": [
    "music_feature.describe()"
   ]
  },
  {
   "cell_type": "code",
   "execution_count": 33,
   "metadata": {},
   "outputs": [
    {
     "output_type": "stream",
     "name": "stderr",
     "text": [
      "C:\\Python38\\lib\\site-packages\\pandas\\core\\indexing.py:1637: SettingWithCopyWarning: \nA value is trying to be set on a copy of a slice from a DataFrame\n\nSee the caveats in the documentation: https://pandas.pydata.org/pandas-docs/stable/user_guide/indexing.html#returning-a-view-versus-a-copy\n  self._setitem_single_block(indexer, value, name)\nC:\\Python38\\lib\\site-packages\\pandas\\core\\indexing.py:692: SettingWithCopyWarning: \nA value is trying to be set on a copy of a slice from a DataFrame\n\nSee the caveats in the documentation: https://pandas.pydata.org/pandas-docs/stable/user_guide/indexing.html#returning-a-view-versus-a-copy\n  iloc._setitem_with_indexer(indexer, value, self.name)\n"
     ]
    }
   ],
   "source": [
    "min_max_scaler = MinMaxScaler()\n",
    "music_feature.loc[:]=min_max_scaler.fit_transform(music_feature.loc[:])"
   ]
  },
  {
   "cell_type": "code",
   "execution_count": 34,
   "metadata": {},
   "outputs": [
    {
     "output_type": "execute_result",
     "data": {
      "text/plain": [
       "       danceability      energy    loudness  speechiness  acousticness  \\\n",
       "count    100.000000  100.000000  100.000000   100.000000    100.000000   \n",
       "mean       0.393004    0.255641    0.567185     0.080856      0.734370   \n",
       "std        0.314994    0.281482    0.264899     0.148759      0.336179   \n",
       "min        0.000000    0.000000    0.000000     0.000000      0.000000   \n",
       "25%        0.124864    0.041996    0.394858     0.016297      0.607086   \n",
       "50%        0.249364    0.112230    0.521360     0.025882      0.918447   \n",
       "75%        0.718284    0.458145    0.796755     0.070527      0.982884   \n",
       "max        1.000000    1.000000    1.000000     1.000000      1.000000   \n",
       "\n",
       "       instrumentalness    liveness     valence       tempo  duration_ms  \n",
       "count        100.000000  100.000000  100.000000  100.000000   100.000000  \n",
       "mean           0.635102    0.154140    0.265650    0.295787     0.315986  \n",
       "std            0.384051    0.179753    0.296239    0.207442     0.229360  \n",
       "min            0.000000    0.000000    0.000000    0.000000     0.000000  \n",
       "25%            0.278924    0.069510    0.011370    0.155198     0.147208  \n",
       "50%            0.854125    0.086670    0.122307    0.225556     0.220444  \n",
       "75%            0.938129    0.132989    0.428360    0.408473     0.449994  \n",
       "max            1.000000    1.000000    1.000000    1.000000     1.000000  "
      ],
      "text/html": "<div>\n<style scoped>\n    .dataframe tbody tr th:only-of-type {\n        vertical-align: middle;\n    }\n\n    .dataframe tbody tr th {\n        vertical-align: top;\n    }\n\n    .dataframe thead th {\n        text-align: right;\n    }\n</style>\n<table border=\"1\" class=\"dataframe\">\n  <thead>\n    <tr style=\"text-align: right;\">\n      <th></th>\n      <th>danceability</th>\n      <th>energy</th>\n      <th>loudness</th>\n      <th>speechiness</th>\n      <th>acousticness</th>\n      <th>instrumentalness</th>\n      <th>liveness</th>\n      <th>valence</th>\n      <th>tempo</th>\n      <th>duration_ms</th>\n    </tr>\n  </thead>\n  <tbody>\n    <tr>\n      <th>count</th>\n      <td>100.000000</td>\n      <td>100.000000</td>\n      <td>100.000000</td>\n      <td>100.000000</td>\n      <td>100.000000</td>\n      <td>100.000000</td>\n      <td>100.000000</td>\n      <td>100.000000</td>\n      <td>100.000000</td>\n      <td>100.000000</td>\n    </tr>\n    <tr>\n      <th>mean</th>\n      <td>0.393004</td>\n      <td>0.255641</td>\n      <td>0.567185</td>\n      <td>0.080856</td>\n      <td>0.734370</td>\n      <td>0.635102</td>\n      <td>0.154140</td>\n      <td>0.265650</td>\n      <td>0.295787</td>\n      <td>0.315986</td>\n    </tr>\n    <tr>\n      <th>std</th>\n      <td>0.314994</td>\n      <td>0.281482</td>\n      <td>0.264899</td>\n      <td>0.148759</td>\n      <td>0.336179</td>\n      <td>0.384051</td>\n      <td>0.179753</td>\n      <td>0.296239</td>\n      <td>0.207442</td>\n      <td>0.229360</td>\n    </tr>\n    <tr>\n      <th>min</th>\n      <td>0.000000</td>\n      <td>0.000000</td>\n      <td>0.000000</td>\n      <td>0.000000</td>\n      <td>0.000000</td>\n      <td>0.000000</td>\n      <td>0.000000</td>\n      <td>0.000000</td>\n      <td>0.000000</td>\n      <td>0.000000</td>\n    </tr>\n    <tr>\n      <th>25%</th>\n      <td>0.124864</td>\n      <td>0.041996</td>\n      <td>0.394858</td>\n      <td>0.016297</td>\n      <td>0.607086</td>\n      <td>0.278924</td>\n      <td>0.069510</td>\n      <td>0.011370</td>\n      <td>0.155198</td>\n      <td>0.147208</td>\n    </tr>\n    <tr>\n      <th>50%</th>\n      <td>0.249364</td>\n      <td>0.112230</td>\n      <td>0.521360</td>\n      <td>0.025882</td>\n      <td>0.918447</td>\n      <td>0.854125</td>\n      <td>0.086670</td>\n      <td>0.122307</td>\n      <td>0.225556</td>\n      <td>0.220444</td>\n    </tr>\n    <tr>\n      <th>75%</th>\n      <td>0.718284</td>\n      <td>0.458145</td>\n      <td>0.796755</td>\n      <td>0.070527</td>\n      <td>0.982884</td>\n      <td>0.938129</td>\n      <td>0.132989</td>\n      <td>0.428360</td>\n      <td>0.408473</td>\n      <td>0.449994</td>\n    </tr>\n    <tr>\n      <th>max</th>\n      <td>1.000000</td>\n      <td>1.000000</td>\n      <td>1.000000</td>\n      <td>1.000000</td>\n      <td>1.000000</td>\n      <td>1.000000</td>\n      <td>1.000000</td>\n      <td>1.000000</td>\n      <td>1.000000</td>\n      <td>1.000000</td>\n    </tr>\n  </tbody>\n</table>\n</div>"
     },
     "metadata": {},
     "execution_count": 34
    }
   ],
   "source": [
    "music_feature.describe()"
   ]
  },
  {
   "cell_type": "code",
   "execution_count": null,
   "metadata": {},
   "outputs": [],
   "source": []
  }
 ]
}